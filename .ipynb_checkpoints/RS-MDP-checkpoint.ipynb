{
 "cells": [
  {
   "cell_type": "markdown",
   "metadata": {},
   "source": [
    "# Risk Sensitive SSP"
   ]
  },
  {
   "cell_type": "markdown",
   "metadata": {
    "collapsed": true
   },
   "source": [
    "### Stochastic Shortest Path (SSP)\n",
    "\n",
    "The SSP problem is a tuple $\\mathcal{M} = \\langle S,A,P,C,s_0,G  \\rangle$ in which $S$ is a finite set of states; $A$ is a finite set of actions, $A(s) \\subseteq A$ is a set of actions applicable in state $s$; $P(s'|s,a)$ is the probability of taking action $a\\in A(s)$ in state $s$ ending in state $s'$; $C(s,a)$ is the cost function that gives the immediate cost value for taking an action $a\\in A(s)$ in state $s$; $s_0\\in S$ is the initial state and $G$ is the set of goal states. Additionally, is common to  make two assumptions: \n",
    "\n",
    "- there exists at least one policy, $\\forall s \\in S$, that reaches the goal with probability 1, called proper policy and \n",
    "- all improper policies accumulate infinite expected cost.\n",
    "\n",
    "\n",
    "\n",
    "### A Risk Sensitive SSP (RS-SSP)\n",
    "An RS-SSP is an SSP with an optimization criterion that takes into account a risk factor $\\lambda$ indicating if the agent is adverse, neutral or prone to risk. A solution for a RS-SSP is based on an exponential Value function, $\\forall s \\in S$ :\n",
    "\n",
    "\\begin{equation}\n",
    "V(s) = \\underset{a\\in A(s)}{\\min} \\left\\{ \\sum_{s'\\in S} e^{\\lambda C(s,a)}P(s'|s,a)V(s') \\right\\}, \\forall s \\in S. \n",
    "\\end{equation}"
   ]
  },
  {
   "cell_type": "markdown",
   "metadata": {},
   "source": [
    "## Experiments"
   ]
  },
  {
   "cell_type": "markdown",
   "metadata": {},
   "source": [
    "## Tire World Domain \n",
    "\n",
    "This is a standard domain for probabilistic planning, where a car can move to a different location through routes. The objective is to go from an initial location $s_0$ to a goal location $s_g$. In each movement, there is a probability of puncturing a tire, in this situation the car is moved to the initial location.\n",
    "\n",
    "### Example\n",
    "\n",
    "The following image ilustrate a triangle tire world domain with a policy where:\n",
    "\n",
    "- The initial state is $s_0$ (&#128660;).\n",
    "- The goal state is $s_g$ (&#9873;).\n",
    "- There are 3 actions $down$ (&#11107;), $right$ (&#11106;) and $left$ (&#11113;).\n",
    "- In red squares there is a probability of 0.5 of puncturing a tire (in this case the car return to $s_0$).\n",
    "- In green square there is a probability of 0.8 of move (execute a desired action) and 0.2 of stay in the same location (fail to execute the desired action).\n",
    "- Black arrows denote a desired action for each state (a policy).\n",
    "- Gray arrows denote all the others available actions of some state.]\n",
    "- Cost of an action is 1.\n",
    "<img src=\"example-tire.png\">\n",
    "\n",
    "_\"intuitively, the most risk adverse policy will be one that tries to avoid red squares, that is, always going to the edge of the stage as the previus figure show._\""
   ]
  },
  {
   "cell_type": "code",
   "execution_count": null,
   "metadata": {
    "collapsed": true
   },
   "outputs": [],
   "source": [
    "from ssp import *\n",
    "from vi import *\n",
    "from lpSolver import *\n",
    "from genProblem import *\n",
    "from lpSolverG import *"
   ]
  },
  {
   "cell_type": "markdown",
   "metadata": {},
   "source": [
    "# Analysis"
   ]
  },
  {
   "cell_type": "markdown",
   "metadata": {},
   "source": [
    "### Running some test with Triangle Tire World"
   ]
  },
  {
   "cell_type": "code",
   "execution_count": 71,
   "metadata": {},
   "outputs": [
    {
     "name": "stdout",
     "output_type": "stream",
     "text": [
      "Lambda with risk adverse algorithm\n",
      "lambda = 0.6832920548751436\n",
      "--------------------------------------------\n"
     ]
    },
    {
     "data": {
      "image/png": "[encoded data removed]",
      "text/plain": [
       "<IPython.core.display.Image object>"
      ]
     },
     "execution_count": 71,
     "metadata": {},
     "output_type": "execute_result"
    }
   ],
   "source": [
    "tam = 2\n",
    "R = genTire(tam)\n",
    "ssp = R['ssp']\n",
    "\n",
    "md = R['metadata'] \n",
    "am = R['actMap']\n",
    "\n",
    "error = 0.00001\n",
    "beta  = error + 0.00000001\n",
    "factor = 0.1\n",
    "\n",
    "\n",
    "R = riskAdverse(ssp, beta, error, factor, initPolicy(ssp))\n",
    "print('Lambda with risk adverse algorithm')\n",
    "print('lambda = {0}'.format(R['factor']))\n",
    "print('--------------------------------------------')\n",
    "image_name = \"test1\"\n",
    "F = lp_ssp_e(ssp, R['factor'])\n",
    "plotTire(ssp, tam, image_name, F['policy'], md, am);\n",
    "from IPython.display import Image \n",
    "Image(filename=image_name+'.png')\n",
    "\n",
    "\n"
   ]
  },
  {
   "cell_type": "markdown",
   "metadata": {},
   "source": [
    "_The policy obtained with the $\\lambda = 0.683$  is not the most adverse to the risk, in the state $s_2$ the car prefers to go to $s_6$ which is a ´safe state´, then the only possible action is to go towards $s_9$ which is likely to return to the beginning_"
   ]
  },
  {
   "cell_type": "code",
   "execution_count": 36,
   "metadata": {},
   "outputs": [
    {
     "name": "stdout",
     "output_type": "stream",
     "text": [
      "Lambda with bin search algorithm\n",
      "lambda = 8.233472031249999\n",
      "--------------------------------------------\n"
     ]
    },
    {
     "data": {
      "image/png": "[encoded data removed]",
      "text/plain": [
       "<IPython.core.display.Image object>"
      ]
     },
     "execution_count": 36,
     "metadata": {},
     "output_type": "execute_result"
    }
   ],
   "source": [
    "R = search_lambda2(ssp)\n",
    "print('Lambda with bin search algorithm')\n",
    "print('lambda = {0}'.format(R['factor']))\n",
    "print('--------------------------------------------')\n",
    "image_name = \"test2\"\n",
    "F = lp_ssp_e(ssp, R['factor'])\n",
    "plotTire(ssp, tam, image_name, F['policy'], md, am);\n",
    "\n",
    "Image(filename=image_name + '.png')\n"
   ]
  },
  {
   "cell_type": "markdown",
   "metadata": {},
   "source": [
    "_The policy obtained with the $\\lambda = 8.23$ always try to go to a state which is going towards the goal without any chance of returning to the beginning_. _$s_7$ take action to go $s_{11}$ instead $s_8$ that is safe but take much cost, $s_{10}$ take action to go $s_11$ instead $s_{12}$_"
   ]
  },
  {
   "cell_type": "code",
   "execution_count": 80,
   "metadata": {},
   "outputs": [
    {
     "data": {
      "image/png": "[encoded data removed]",
      "text/plain": [
       "<IPython.core.display.Image object>"
      ]
     },
     "execution_count": 80,
     "metadata": {},
     "output_type": "execute_result"
    }
   ],
   "source": [
    "tam = 2\n",
    "R = genTire(tam)\n",
    "ssp = R['ssp']\n",
    "\n",
    "md = R['metadata'] \n",
    "am = R['actMap']\n",
    "\n",
    "R = lp_ssp_e(ssp, 0.684)\n",
    "image_name = \"tire3-07\"\n",
    "plotTire(ssp, tam, image_name, R['policy'], md, am);\n",
    "\n",
    "from IPython.display import Image \n",
    "Image(filename = image_name+'.png')"
   ]
  },
  {
   "cell_type": "markdown",
   "metadata": {},
   "source": [
    "in this case, we tested the value obtained by the riskAdverse algorithm $$, which possibly due to the given error could give us a slightly lower value than desired. The policy from s_0 turns out to be the same as the previous one, but for the intermediate states the behavior is different, the state $ s_9 $ seems to prefer to take some risk, instead of going through a safe route"
   ]
  },
  {
   "cell_type": "code",
   "execution_count": 81,
   "metadata": {},
   "outputs": [
    {
     "name": "stdout",
     "output_type": "stream",
     "text": [
      "#instante   states     Atime      Alambda    Btime      Blambda    Ctime      Clambda   \n",
      "2              15      0.112      8.233      0.011      0.682      0.071      0.692\n",
      "4              45      0.349      5.468      0.060      0.692      0.226      0.692\n",
      "6              91      0.833      5.206      0.146      0.692      0.932      0.692\n",
      "8             153      1.573      3.805      0.310      0.692      1.890      0.692\n",
      "10            231      2.848      2.892      0.604      0.692      3.742      0.692\n",
      "12            325      4.849      2.787      1.054      0.692      7.082      0.692\n",
      "14            435      7.939      2.504      1.515      0.692     14.310      0.692\n",
      "16            561     13.391      2.329      2.740      0.692     22.943      0.692\n",
      "18            703     18.126      2.192      3.938      0.692     35.626      0.692\n",
      "20            861     25.924      2.070      4.673      0.692     46.702      0.692\n"
     ]
    }
   ],
   "source": [
    "def expTir():\n",
    "\t# TireWorld Domain\n",
    "\tprint('#{0:10} {1:10} {2:10} {3:10} {4:10} {5:10} {6:10} {7:10}'.format('instante','states','Atime','Alambda','Btime','Blambda','Ctime','Clambda'))\n",
    "\n",
    "\tfor tam in range(2,22,2):\n",
    "\t\tR = genTire(tam)\n",
    "\t\tssp = R['ssp']\n",
    "\t\ts_states = len(ssp._S)\n",
    "\t\tinstance = str(tam)\n",
    "\t\t\n",
    "\t\tR1 = search_lambda2(ssp)\n",
    "\n",
    "\t\tfactor = 0.1\n",
    "        \n",
    "\t\terror = 0.001\n",
    "\t\tbeta = error + 0.00000000000001\n",
    "        \n",
    "        \n",
    "\t\tR2 = riskAdverse(ssp, beta, error, factor, initPolicy(ssp))\n",
    "\n",
    "\t\tR3 = riskAdverse2(ssp, beta, error, factor, initPolicy(ssp))\n",
    "\n",
    "\t\tprint('{0:10} {1:6} {2:10.3f} {3:10.3f} {4:10.3f} {5:10.3f} {6:10.3f} {7:10.3f}'.format(instance,s_states,R1['time'],R1['factor'],R2['time'],R2['factor'],R3['time'],R3['factor']))\n",
    "\n",
    "expTir()"
   ]
  },
  {
   "cell_type": "markdown",
   "metadata": {},
   "source": [
    "#### Leyend\n",
    "- A: Binary Search Algorithm using dual linear formulation\n",
    "- B: Risk Adverse Algorithm using dual linear formulation\n",
    "- C: Risk Adverse Algorithm using policy iteration"
   ]
  },
  {
   "cell_type": "code",
   "execution_count": null,
   "metadata": {
    "collapsed": true
   },
   "outputs": [],
   "source": []
  }
 ],
 "metadata": {
  "kernelspec": {
   "display_name": "Python 3",
   "language": "python",
   "name": "python3"
  },
  "language_info": {
   "codemirror_mode": {
    "name": "ipython",
    "version": 3
   },
   "file_extension": ".py",
   "mimetype": "text/x-python",
   "name": "python",
   "nbconvert_exporter": "python",
   "pygments_lexer": "ipython3",
   "version": "3.6.3"
  }
 },
 "nbformat": 4,
 "nbformat_minor": 2
}
